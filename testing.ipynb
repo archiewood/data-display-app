{
 "cells": [
  {
   "cell_type": "code",
   "execution_count": 36,
   "metadata": {},
   "outputs": [],
   "source": [
    "import pandas as pd\n",
    "import dash\n",
    "import dash_core_components as dcc\n",
    "import dash_html_components as html\n",
    "from dash.dependencies import Input, Output\n",
    "import plotly.express as px"
   ]
  },
  {
   "cell_type": "code",
   "execution_count": 44,
   "metadata": {},
   "outputs": [
    {
     "name": "stderr",
     "output_type": "stream",
     "text": [
      "c:\\users\\archi\\appdata\\local\\programs\\python\\python37-32\\lib\\site-packages\\urllib3\\connectionpool.py:847: InsecureRequestWarning:\n",
      "\n",
      "Unverified HTTPS request is being made. Adding certificate verification is strongly advised. See: https://urllib3.readthedocs.io/en/latest/advanced-usage.html#ssl-warnings\n",
      "\n"
     ]
    },
    {
     "data": {
      "text/plain": [
       "<pushsafer.MessageRequest at 0x10b1cc10>"
      ]
     },
     "execution_count": 44,
     "metadata": {},
     "output_type": "execute_result"
    }
   ],
   "source": [
    "from pushsafer import init, Client\n",
    "\n",
    "init(\"xT13yvgbVm7KofiH8bR5\")\n",
    "Client(\"\").send_message(\"Light has hit!\", \"Light Status\", \"gs2247\", \"64\", \"4\", \"2\", \"https://light-on-my-balcony.herokuapp.com/\", \"Open LomB\", \"0\", \"1\", \"120\", \"1200\", \"0\", \"\", \"\", \"\")"
   ]
  },
  {
   "cell_type": "markdown",
   "metadata": {},
   "source": [
    "## Code for the app"
   ]
  },
  {
   "cell_type": "code",
   "execution_count": 1,
   "metadata": {},
   "outputs": [],
   "source": []
  },
  {
   "cell_type": "markdown",
   "metadata": {},
   "source": [
    "# Code for testing new dashboards"
   ]
  },
  {
   "cell_type": "code",
   "execution_count": null,
   "metadata": {},
   "outputs": [
    {
     "name": "stdout",
     "output_type": "stream",
     "text": [
      " * Serving Flask app \"__main__\" (lazy loading)\n",
      " * Environment: production\n",
      "   WARNING: This is a development server. Do not use it in a production deployment.\n",
      "   Use a production WSGI server instead.\n",
      " * Debug mode: off\n"
     ]
    }
   ],
   "source": [
    "import pandas as pd\n",
    "import dash\n",
    "import dash_core_components as dcc\n",
    "import dash_html_components as html\n",
    "from dash.dependencies import Input, Output\n",
    "import plotly.express as px\n",
    "\n",
    "external_stylesheets = ['https://codepen.io/chriddyp/pen/bWLwgP.css']\n",
    "\n",
    "def load_graph(is_logged=False):\n",
    "    csv = 'https://raw.githubusercontent.com/archiewood/lightlogger/master/lightlog.csv'\n",
    "    avg_window=5\n",
    "\n",
    "    df = pd.read_csv(csv)\n",
    "    df['date']=df['timestamp'].str[:10]\n",
    "    df['time']=df['timestamp'].str[10:19]\n",
    "    df['median']= df['light_reading'].rolling(avg_window).median()\n",
    "    df['std'] = df['light_reading'].rolling(avg_window).std()\n",
    "    df = df[(df.light_reading <= df['median']+3*df['std']) & (df.light_reading >= df['median']-3*df['std'])]\n",
    "    df['light_reading_moving_avg'] = df.iloc[:,1].rolling(window=avg_window).mean()\n",
    "    \n",
    "    df['hour']=df['timestamp'].str[11:13].astype(float)\n",
    "    df['minute']=df['timestamp'].str[14:16].astype(float)\n",
    "    df['minute_interval']=df['minute'].floordiv(6)\n",
    "    df['hour-decimal']=df['hour']+df['minute_interval']/10\n",
    "    df['date']=df['timestamp'].str[:10]\n",
    "    \n",
    "    piv=df.pivot_table(index=['hour-decimal','date'],values='light_reading_moving_avg').reset_index()\n",
    "    #remove incomplete day's data\n",
    "    piv=piv[piv['date']>'2020-04-11']\n",
    "    \n",
    "    \n",
    "    if is_logged:\n",
    "        fig= px.line(piv,x='hour-decimal',y='light_reading_moving_avg',color='date',range_x=[9,21],range_y=[0.1,1000],log_y=True,color_discrete_sequence=px.colors.sequential.thermal)\n",
    "        fig.update_layout(xaxis_title=\"Hour of Day\",yaxis_title=\"Balcony Light Intensity\",margin=dict(l=50,r=50,b=10,t=10),height=400,plot_bgcolor='rgb(230,230,230)')\n",
    "    else:\n",
    "        fig= px.line(piv,x='hour-decimal',y='light_reading_moving_avg',color='date',range_x=[9,21],range_y=[0,100],color_discrete_sequence=px.colors.sequential.thermal)\n",
    "        fig.update_layout(xaxis_title=\"Hour of Day\",yaxis_title=\"Balcony Light Intensity\",margin=dict(l=50,r=50,b=10,t=10),height=400,plot_bgcolor='rgb(230,230,230)')\n",
    "        \n",
    "    return fig \n",
    "\n",
    "\n",
    "app = dash.Dash(__name__,external_stylesheets=external_stylesheets)\n",
    "server = app.server\n",
    "\n",
    "app.title = \"Light on my Balcony\"\n",
    "\n",
    "app.layout = html.Div(children=[\n",
    "    html.H1(children='Light on my Balcony',style={'textAlign': 'left','margin': '0 auto','width': '95%'}\n",
    "           ),\n",
    "    dcc.Markdown(children='''\n",
    "        A web app that shows when there is sunlight on my balcony, as measured by an LDR using a Raspberry Pi. \n",
    "    ''',style={'textAlign': 'left','margin': '0 auto','width': '95%'}),\n",
    "    \n",
    "    html.Div(\n",
    "        children=[\n",
    "            dcc.Graph(id='logged_chart',figure=load_graph(is_logged=True)),\n",
    "            html.Label('Light Intensity Axis',style={'textAlign':'right'}),\n",
    "            dcc.RadioItems(\n",
    "                id='log_switch',\n",
    "                options=[\n",
    "                    {'label': 'Linear', 'value': False},\n",
    "                    {'label': 'Log', 'value': True}\n",
    "                ],\n",
    "                value=True,style={'textAlign':'right'}\n",
    "            ),\n",
    "            \n",
    "            dcc.Markdown(children='''\n",
    "            The source code is on Github for the [visualisation](https://github.com/archiewood/data-display-app/)\n",
    "            and the [data collection](https://github.com/archiewood/lightlogger/).\n",
    "            ''')],\n",
    "        style = { 'margin': '0 auto','width': '95%'}\n",
    "    )\n",
    "])\n",
    "\n",
    "@app.callback(\n",
    "    Output(component_id='logged_chart', component_property='figure'),\n",
    "    [Input(component_id='log_switch', component_property='value')]\n",
    ")\n",
    "def update_output_chart(log_choice):\n",
    "    return load_graph(is_logged=log_choice)\n",
    "\n",
    "\n",
    "\n",
    "if __name__ == '__main__':\n",
    "    app.run_server(debug=False)"
   ]
  },
  {
   "cell_type": "code",
   "execution_count": null,
   "metadata": {},
   "outputs": [],
   "source": []
  }
 ],
 "metadata": {
  "kernelspec": {
   "display_name": "Python 3",
   "language": "python",
   "name": "python3"
  },
  "language_info": {
   "codemirror_mode": {
    "name": "ipython",
    "version": 3
   },
   "file_extension": ".py",
   "mimetype": "text/x-python",
   "name": "python",
   "nbconvert_exporter": "python",
   "pygments_lexer": "ipython3",
   "version": "3.8.2"
  }
 },
 "nbformat": 4,
 "nbformat_minor": 4
}
